{
 "cells": [
  {
   "cell_type": "code",
   "execution_count": 2,
   "metadata": {},
   "outputs": [],
   "source": [
    "import torch.nn as nn\n",
    "import torch\n",
    "from torch.utils.data import DataLoader, Dataset\n",
    "import RNA\n",
    "import json\n",
    "import pandas as pd\n",
    "import forgi.visual.mplotlib as fvm\n",
    "import forgi\n",
    "import matplotlib.pyplot as plt\n",
    "import webbrowser\n",
    "import numpy as np"
   ]
  },
  {
   "cell_type": "code",
   "execution_count": 3,
   "metadata": {},
   "outputs": [
    {
     "name": "stdout",
     "output_type": "stream",
     "text": [
      "Sequence: GGAAAUCUAGCGACCCAGGGACGGAAGUCAACUAGACGAAGUAGAUGCGAUCAGAGUUUGCGUUACAAGCGCCUCUUCGGAGGUGCAAAAGAAACAACAACAACAAC\n",
      "Structure: .....(((((.(((((......))..)))..)))))....((.(((((((.......)))))))))..(((((((....))))))).....................\n",
      "Index: [0, 1, 2, 3, 4, 5, 6, 7, 8, 9, 10, 11, 12, 13, 14, 15, 16, 17, 18, 19, 20, 21, 22, 23, 24, 25, 26, 27, 28, 29, 30, 31, 32, 33, 34, 35, 36, 37, 38, 39, 40, 41, 42, 43, 44, 45, 46, 47, 48, 49, 50, 51, 52, 53, 54, 55, 56, 57, 58, 59, 60, 61, 62, 63, 64, 65, 66, 67, 68, 69, 70, 71, 72, 73, 74, 75, 76, 77, 78, 79, 80, 81, 82, 83, 84, 85, 86, 87, 88, 89, 90, 91, 92, 93, 94, 95, 96, 97, 98, 99, 100, 101, 102, 103, 104, 105, 106]\n"
     ]
    }
   ],
   "source": [
    "train = pd.read_json('stanford-covid-vaccine/train.json', lines=True)\n",
    "idx = 20\n",
    "indices = [i for i in range(len(train.iloc[idx]['structure']))]\n",
    "print(f\"Sequence: {train.iloc[idx]['sequence']}\\nStructure: {train.iloc[idx]['structure']}\\nIndex: {indices}\")"
   ]
  },
  {
   "cell_type": "code",
   "execution_count": 4,
   "metadata": {},
   "outputs": [],
   "source": [
    "\n",
    "def check(seq, struc):\n",
    "    i = 0\n",
    "    while True:\n",
    "        i+=1\n",
    "        if struc[i] == ')':\n",
    "            for x in range(len(struc[i:])):\n",
    "                idx = i+x\n",
    "                if struc[i+x] == '(':\n",
    "                    return idx, struc[:idx], struc\n",
    "                    break\n",
    "\n",
    "\n",
    "def get_all_portions(seq, struc):\n",
    "    a = []\n",
    "    try:\n",
    "        copy = struc\n",
    "        while True:\n",
    "            idx, new, _ = check(seq, copy)\n",
    "            a.append(new)\n",
    "            copy = copy[idx:]\n",
    "    except:\n",
    "        a.append(copy)\n",
    "\n",
    "    return a\n"
   ]
  },
  {
   "cell_type": "code",
   "execution_count": 5,
   "metadata": {},
   "outputs": [
    {
     "name": "stdout",
     "output_type": "stream",
     "text": [
      ".....(((((.(((((......))..)))..)))))....((.(((((((.......)))))))))..(((((((....))))))).....................\n",
      "['(((((.(((((......))..)))..)))))', '((.(((((((.......)))))))))', '(((((((....)))))))']\n"
     ]
    }
   ],
   "source": [
    "\n",
    "def visualize(seq, struc):\n",
    "    viz = f'http://nibiru.tbi.univie.ac.at/forna/forna.html?id=fasta&file=%3Eheader%5Cn{seq}%5Cn{struc}'\n",
    "    webbrowser.open(viz)\n",
    "\n",
    "def clean_ends(splits):\n",
    "    all_len = len(splits)\n",
    "    copy_splits = splits\n",
    "    for idx, split in enumerate(splits):\n",
    "        first = split.find('(')\n",
    "        last = split[::-1].find(')')\n",
    "        copy = split\n",
    "        copy = copy[::-1][last:]\n",
    "        copy = copy[::-1][first:]\n",
    "        copy_splits[idx] = copy\n",
    "    return copy_splits[:all_len]\n",
    "        \n",
    "\n",
    "eg_seq = train.iloc[idx]['sequence']\n",
    "eg_struc = train.iloc[idx]['structure']\n",
    "\n",
    "# visualize(eg_seq, eg_struc)\n",
    "\n",
    "\n",
    "new_splits = clean_ends(get_all_portions(eg_seq, eg_struc))\n",
    "print(eg_struc)\n",
    "print(new_splits)\n"
   ]
  },
  {
   "cell_type": "code",
   "execution_count": 6,
   "metadata": {},
   "outputs": [],
   "source": [
    "def base_pairing(any_splits):\n",
    "    all_things = []\n",
    "    for idx, split in enumerate(any_splits):\n",
    "        all_open = [x for x, g in enumerate(split) if g=='(']\n",
    "        all_close = [x for x, g in enumerate(split) if g==')']\n",
    "        middle_bracket = [max(all_open), min(all_close)]\n",
    "        all_things.append(middle_bracket)\n",
    "    return all_things\n",
    "\n",
    "def find_bonds(seq, struc):\n",
    "    splits = clean_ends(get_all_portions(seq, struc))\n",
    "    middles = base_pairing(splits)\n",
    "    \n",
    "    for idx, middle in enumerate(middles):\n",
    "        padding_left=int(struc.find(splits[idx]))\n",
    "        new_vals = [middle[0]+padding_left, middle[1]+padding_left]\n",
    "        middles[idx] = new_vals\n",
    "\n",
    "    return middles, struc, splits\n",
    "\n",
    "\n",
    "def test_pair(seq, struc, idx_type=0):\n",
    "    bondage = []\n",
    "    middles, copy_struc, splits = find_bonds(seq, struc)\n",
    "    left, right = middles[idx_type]\n",
    "    while True:\n",
    "        try:\n",
    "            if copy_struc[left] == '(' and copy_struc[right] == ')':\n",
    "                bondage.append([left, right])\n",
    "                left-=1\n",
    "                right+=1\n",
    "            elif copy_struc[left] == '(' and copy_struc[right] == '.':\n",
    "                right +=1\n",
    "            elif copy_struc[left] == '.' and copy_struc[right] == ')':\n",
    "                left -=1\n",
    "            elif copy_struc[left] == '.' and copy_struc[right] == '.':\n",
    "                left -=1\n",
    "                right +=1\n",
    "            else:\n",
    "                break\n",
    "        except:\n",
    "            break\n",
    "\n",
    "    return middles, copy_struc, splits, bondage\n"
   ]
  },
  {
   "cell_type": "code",
   "execution_count": 26,
   "metadata": {},
   "outputs": [],
   "source": [
    "def get_sequence_bonds(idx):\n",
    "\n",
    "    eg_seq = train.iloc[idx]['sequence']\n",
    "    eg_struc = train.iloc[idx]['structure']\n",
    "\n",
    "    symmetric_bonds = []\n",
    "    repl_struc = ''\n",
    "\n",
    "\n",
    "    for i in range(len(clean_ends(get_all_portions(eg_seq, eg_struc)))):\n",
    "        eg_middles, repl_struc, eg_splits, eg_bondage = test_pair(eg_seq, eg_struc, i)\n",
    "        symmetric_bonds += eg_bondage\n",
    "\n",
    "\n",
    "\n",
    "    try:\n",
    "        while ('(' or ')') in repl_struc:\n",
    "            split_struc = [i for i in repl_struc]\n",
    "\n",
    "            for coord in symmetric_bonds:\n",
    "                l, r = coord\n",
    "                split_struc[l] = '.'\n",
    "                split_struc[r] = '.'\n",
    "\n",
    "            repl_struc = ''.join(split_struc)\n",
    "            _, _, _, final_bondage = test_pair(eg_seq, repl_struc)\n",
    "            symmetric_bonds += final_bondage\n",
    "    except:\n",
    "        pass\n",
    "\n",
    "    all_bonds = [list(x) for x in set(tuple(x) for x in symmetric_bonds)]\n",
    "\n",
    "    # print(eg_struc)\n",
    "    # print(repl_struc)\n",
    "    # print(len(all_bonds))\n",
    "    # print(len([char for char in eg_struc if char == '(']))\n",
    "    return all_bonds, eg_struc, eg_seq\n"
   ]
  },
  {
   "cell_type": "code",
   "execution_count": 27,
   "metadata": {},
   "outputs": [],
   "source": [
    "dataset_adjacency = {key: [] for key in range(len(train))}\n",
    "\n",
    "for idx in range(len(train)):\n",
    "    flag = ''\n",
    "    eg_struc = train.iloc[idx]['structure']\n",
    "    all_bonds, check_struc, check_seq = get_sequence_bonds(idx)\n",
    "    if len(all_bonds) != len([char for char in eg_struc if char == '(']):\n",
    "        flag = 'hmm sus'\n",
    "    else:\n",
    "        dataset_adjacency[idx] = [check_seq, check_struc, all_bonds]\n",
    "        flag = 'All structures are accounted for'        \n"
   ]
  },
  {
   "cell_type": "code",
   "execution_count": 28,
   "metadata": {},
   "outputs": [
    {
     "name": "stdout",
     "output_type": "stream",
     "text": [
      "[[27, 62], [74, 79], [26, 63], [10, 18], [34, 55], [72, 81], [42, 47], [73, 80], [6, 23], [41, 48], [33, 56], [40, 49], [9, 19], [5, 24], [39, 50], [8, 20], [71, 82], [7, 21], [69, 84], [70, 83], [38, 51], [37, 52], [68, 85]]\n"
     ]
    }
   ],
   "source": [
    "print(dataset_adjacency[0][2])\n",
    "visualize(dataset_adjacency[0][0], str(dataset_adjacency[0][1]))\n"
   ]
  },
  {
   "cell_type": "code",
   "execution_count": 124,
   "metadata": {},
   "outputs": [],
   "source": [
    "# indices = [i for i in range(len(eg_struc))]\n",
    "# matr = np.zeros((len(indices), len(indices)))\n",
    "\n",
    "# def watson_crick(struc):\n",
    "#     fivethree = struc\n",
    "#     threefive = struc[::-1]\n",
    "\n",
    "#     for idx in range(len(struc)):\n",
    "#         i = idx\n",
    "#         if fivethree[idx] == '(':\n",
    "#             while True:\n",
    "#                 if threefive[i] == ')':\n",
    "#                     return i, idx\n",
    "#                     break\n",
    "#                 i+=1\n",
    "            \n",
    "#             break\n",
    "\n",
    "\n",
    "# def all_pairs(seq, struc):\n",
    "#     bonds = []\n",
    "#     copy = struc\n",
    "#     sp = [char for char in copy]\n",
    "#     x = sp.count('(')\n",
    "#     x*=2\n",
    "#     while len(bonds) < x:\n",
    "#         try:\n",
    "#             a = watson_crick(copy)\n",
    "#             a = list(a)\n",
    "#             tf_idx = a[0]\n",
    "#             ft_idx = a[1]\n",
    "#             bonds.append(ft_idx)\n",
    "#             bonds.append(tf_idx)\n",
    "#             copy = copy[::-1]\n",
    "#             copy = copy[tf_idx+1:]\n",
    "#             copy = copy[::-1]\n",
    "#             copy = copy[ft_idx+1:]\n",
    "#         except:\n",
    "#             break\n",
    "\n",
    "#     return bonds\n",
    "\n",
    "    \n",
    "# all_bonds = all_pairs(eg_seq, eg_struc)"
   ]
  },
  {
   "cell_type": "code",
   "execution_count": 66,
   "metadata": {},
   "outputs": [
    {
     "data": {
      "text/plain": [
       "5"
      ]
     },
     "execution_count": 66,
     "metadata": {},
     "output_type": "execute_result"
    }
   ],
   "source": [
    "a = '.....(((((.(((((......))..)))..)))))....((.(((((((.......)))))))))..(((((((....))))))).....................'\n",
    "a.find('(((((.(((((......))..)))..)))))....((.(((((((.......)))))))))..(((((((....))))))).....................')\n"
   ]
  },
  {
   "cell_type": "code",
   "execution_count": null,
   "metadata": {},
   "outputs": [],
   "source": []
  }
 ],
 "metadata": {
  "interpreter": {
   "hash": "aee8b7b246df8f9039afb4144a1f6fd8d2ca17a180786b69acc140d282b71a49"
  },
  "kernelspec": {
   "display_name": "Python 3.9.0 64-bit",
   "language": "python",
   "name": "python3"
  },
  "language_info": {
   "codemirror_mode": {
    "name": "ipython",
    "version": 3
   },
   "file_extension": ".py",
   "mimetype": "text/x-python",
   "name": "python",
   "nbconvert_exporter": "python",
   "pygments_lexer": "ipython3",
   "version": "3.8.12"
  },
  "orig_nbformat": 4
 },
 "nbformat": 4,
 "nbformat_minor": 2
}
