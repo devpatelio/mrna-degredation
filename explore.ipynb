{
 "cells": [
  {
   "cell_type": "code",
   "execution_count": 5,
   "metadata": {},
   "outputs": [],
   "source": [
    "import torch.nn as nn\n",
    "import torch\n",
    "from torch.utils.data import DataLoader, Dataset\n",
    "import RNA\n",
    "import json\n",
    "import pandas as pd\n",
    "import forgi.visual.mplotlib as fvm\n",
    "import forgi\n",
    "import matplotlib.pyplot as plt\n",
    "import webbrowser\n",
    "import numpy as np"
   ]
  },
  {
   "cell_type": "code",
   "execution_count": 6,
   "metadata": {},
   "outputs": [
    {
     "name": "stdout",
     "output_type": "stream",
     "text": [
      "Sequence: GGAAAUCUAGCGACCCAGGGACGGAAGUCAACUAGACGAAGUAGAUGCGAUCAGAGUUUGCGUUACAAGCGCCUCUUCGGAGGUGCAAAAGAAACAACAACAACAAC\n",
      "Structure: .....(((((.(((((......))..)))..)))))....((.(((((((.......)))))))))..(((((((....))))))).....................\n",
      "Index: [0, 1, 2, 3, 4, 5, 6, 7, 8, 9, 10, 11, 12, 13, 14, 15, 16, 17, 18, 19, 20, 21, 22, 23, 24, 25, 26, 27, 28, 29, 30, 31, 32, 33, 34, 35, 36, 37, 38, 39, 40, 41, 42, 43, 44, 45, 46, 47, 48, 49, 50, 51, 52, 53, 54, 55, 56, 57, 58, 59, 60, 61, 62, 63, 64, 65, 66, 67, 68, 69, 70, 71, 72, 73, 74, 75, 76, 77, 78, 79, 80, 81, 82, 83, 84, 85, 86, 87, 88, 89, 90, 91, 92, 93, 94, 95, 96, 97, 98, 99, 100, 101, 102, 103, 104, 105, 106]\n"
     ]
    }
   ],
   "source": [
    "train = pd.read_json('stanford-covid-vaccine/train.json', lines=True)\n",
    "idx = 20\n",
    "indices = [i for i in range(len(train.iloc[idx]['structure']))]\n",
    "print(f\"Sequence: {train.iloc[idx]['sequence']}\\nStructure: {train.iloc[idx]['structure']}\\nIndex: {indices}\")"
   ]
  },
  {
   "cell_type": "code",
   "execution_count": 143,
   "metadata": {},
   "outputs": [],
   "source": [
    "\n",
    "def check(seq, struc):\n",
    "    i = 0\n",
    "    while True:\n",
    "        i+=1\n",
    "        if struc[i] == ')':\n",
    "            for x in range(len(struc[i:])):\n",
    "                idx = i+x\n",
    "                if struc[i+x] == '(':\n",
    "                    return idx, struc[:idx], struc\n",
    "                    break\n",
    "\n",
    "\n",
    "def get_all_portions(seq, struc):\n",
    "    try:\n",
    "        copy = struc\n",
    "        while True:\n",
    "            idx, new, _ = check(seq, copy)\n",
    "            a.append(new)\n",
    "            copy = copy[idx:]\n",
    "    except:\n",
    "        a.append(copy)\n",
    "\n",
    "    return a\n"
   ]
  },
  {
   "cell_type": "code",
   "execution_count": 147,
   "metadata": {},
   "outputs": [
    {
     "name": "stdout",
     "output_type": "stream",
     "text": [
      ".....(((((((((.((((.....)))).))).)))....((((........)))).....)))....(((((((....))))))).....................\n",
      "['(((((((((.((((.....)))).))).)))', '((((........)))).....)))', '(((((((....)))))))']\n"
     ]
    }
   ],
   "source": [
    "a = []\n",
    "\n",
    "def visualize(seq, struc):\n",
    "    viz = f'http://nibiru.tbi.univie.ac.at/forna/forna.html?id=fasta&file=%3Eheader%5Cn{seq}%5Cn{struc}'\n",
    "    webbrowser.open(viz)\n",
    "\n",
    "def clean_ends(splits):\n",
    "    copy_splits = splits\n",
    "    for idx, split in enumerate(splits):\n",
    "        first = split.find('(')\n",
    "        last = split[::-1].find(')')\n",
    "        copy = split\n",
    "        copy = copy[::-1][last:]\n",
    "        copy = copy[::-1][first:]\n",
    "        copy_splits[idx] = copy\n",
    "    return copy_splits\n",
    "        \n",
    "\n",
    "eg_seq = train.iloc[idx]['sequence']\n",
    "eg_struc = train.iloc[idx]['structure']\n",
    "\n",
    "# visualize(eg_seq, eg_struc)\n",
    "\n",
    "\n",
    "splits = clean_ends(get_all_portions(eg_seq, eg_struc))\n",
    "print(eg_struc)\n",
    "print(splits)\n"
   ]
  },
  {
   "cell_type": "code",
   "execution_count": 148,
   "metadata": {},
   "outputs": [
    {
     "name": "stdout",
     "output_type": "stream",
     "text": [
      "[13, 19]\n",
      "[3, 12]\n",
      "[6, 11]\n"
     ]
    }
   ],
   "source": [
    "def base_pairing(splits):\n",
    "    for idx, split in enumerate(splits):\n",
    "        all_open = [x for x, g in enumerate(split) if g=='(']\n",
    "        all_close = [x for x, g in enumerate(split) if g==')']\n",
    "\n",
    "        middle_bracket = [max(all_open), min(all_close)]\n",
    "        print(middle_bracket)\n",
    "\n",
    "base_pairing(splits)\n"
   ]
  },
  {
   "cell_type": "code",
   "execution_count": 124,
   "metadata": {},
   "outputs": [],
   "source": [
    "# indices = [i for i in range(len(eg_struc))]\n",
    "# matr = np.zeros((len(indices), len(indices)))\n",
    "\n",
    "# def watson_crick(struc):\n",
    "#     fivethree = struc\n",
    "#     threefive = struc[::-1]\n",
    "\n",
    "#     for idx in range(len(struc)):\n",
    "#         i = idx\n",
    "#         if fivethree[idx] == '(':\n",
    "#             while True:\n",
    "#                 if threefive[i] == ')':\n",
    "#                     return i, idx\n",
    "#                     break\n",
    "#                 i+=1\n",
    "            \n",
    "#             break\n",
    "\n",
    "\n",
    "# def all_pairs(seq, struc):\n",
    "#     bonds = []\n",
    "#     copy = struc\n",
    "#     sp = [char for char in copy]\n",
    "#     x = sp.count('(')\n",
    "#     x*=2\n",
    "#     while len(bonds) < x:\n",
    "#         try:\n",
    "#             a = watson_crick(copy)\n",
    "#             a = list(a)\n",
    "#             tf_idx = a[0]\n",
    "#             ft_idx = a[1]\n",
    "#             bonds.append(ft_idx)\n",
    "#             bonds.append(tf_idx)\n",
    "#             copy = copy[::-1]\n",
    "#             copy = copy[tf_idx+1:]\n",
    "#             copy = copy[::-1]\n",
    "#             copy = copy[ft_idx+1:]\n",
    "#         except:\n",
    "#             break\n",
    "\n",
    "#     return bonds\n",
    "\n",
    "    \n",
    "# all_bonds = all_pairs(eg_seq, eg_struc)"
   ]
  }
 ],
 "metadata": {
  "interpreter": {
   "hash": "aee8b7b246df8f9039afb4144a1f6fd8d2ca17a180786b69acc140d282b71a49"
  },
  "kernelspec": {
   "display_name": "Python 3.9.0 64-bit",
   "language": "python",
   "name": "python3"
  },
  "language_info": {
   "codemirror_mode": {
    "name": "ipython",
    "version": 3
   },
   "file_extension": ".py",
   "mimetype": "text/x-python",
   "name": "python",
   "nbconvert_exporter": "python",
   "pygments_lexer": "ipython3",
   "version": "3.8.12"
  },
  "orig_nbformat": 4
 },
 "nbformat": 4,
 "nbformat_minor": 2
}
